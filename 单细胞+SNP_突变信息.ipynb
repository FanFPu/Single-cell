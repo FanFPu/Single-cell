{
 "cells": [
  {
   "cell_type": "markdown",
   "id": "902465ca-b706-4790-9741-0ba50872838b",
   "metadata": {},
   "source": [
    "# SNP鉴定"
   ]
  },
  {
   "cell_type": "code",
   "execution_count": null,
   "id": "4108b71d-aca0-497c-b76c-c6b74d338463",
   "metadata": {},
   "outputs": [],
   "source": [
    "#突变信息利用的是cellsnp.lite网站进行的 https://cellsnp-lite.readthedocs.io/en/latest/main/install.html"
   ]
  },
  {
   "cell_type": "code",
   "execution_count": null,
   "id": "2305aa01-5a86-4c96-bd34-50410fdc0ae8",
   "metadata": {},
   "outputs": [],
   "source": [
    "# 安装包\n",
    "# conda install -c bioconda cellsnp-lite"
   ]
  },
  {
   "cell_type": "code",
   "execution_count": null,
   "id": "f9330493-6d72-4158-99ad-0a0f49b4b53e",
   "metadata": {},
   "outputs": [],
   "source": [
    "#其实它应该就是直接安装了一个软件\n",
    "# 工具的绝对路径 -s bam文件的绝对路径 -b barcode的绝对路径 -O 输出路径 -p 线程数量 --minMAF 0.05 （最小的gene活性）--gzip -f 对应的refer gene （一般对应的是GRCh38那个 --genotype）\n",
    "\n",
    "## 10x sample with cell barcodes\n",
    "cellsnp-lite -s $BAM -b $BARCODE -O $OUT_DIR -p 10 --minMAF 0.1 --minCOUNT 100 --gzip #公式，和上面一样"
   ]
  },
  {
   "attachments": {},
   "cell_type": "markdown",
   "id": "53459bdb-2be1-445f-9989-009128123234",
   "metadata": {},
   "source": [
    "#结果会有cellSNP.base或者AD或者DP等一系列文件"
   ]
  },
  {
   "cell_type": "code",
   "execution_count": null,
   "id": "0cc56b70-5193-4fd1-bf72-b12b0f7bb382",
   "metadata": {},
   "outputs": [],
   "source": [
    "#它的结果是显示在每个染色体上的突变\n",
    "#如果大家还想要继续想要指导哪个突变位于哪个gene 下面我们就需要进行注释 ANNOVAR\n",
    "#但是需要下载对应的参考基因组 一般都是hg38 里面会有蛋白质 ，cosmic hotspot等等 可以去了解一下\n",
    "\n",
    "table_annovar = table_annovar.pl的绝对路径(这个是主教本，软件自带的)\n",
    "humandb= 存储数据库的绝对路径\n",
    "perl $table_annovar \\\n",
    "    --buildver hg38 \\\n",
    "    --otherinfo \\\n",
    "    --nastring . cellSNP.base.vcf的绝对路径 $humandb \\\n",
    "    -protocol refGene\n",
    "    -operation g \\\n",
    "    --vcfinput --remove > 输出的绝对路径 2>&1"
   ]
  },
  {
   "cell_type": "code",
   "execution_count": null,
   "id": "a3e0803c-2a36-4d57-986d-d857909c8a66",
   "metadata": {},
   "outputs": [],
   "source": [
    "单细胞测序一般测序的是98bp个长度，因此一般采取的5'端进行测序’，或者是3，因此一般超过这个长度的话一般是不准确的，无效突变可以认为是，"
   ]
  },
  {
   "cell_type": "code",
   "execution_count": null,
   "id": "532cd90b-dac1-49ce-b046-131a0e54c863",
   "metadata": {},
   "outputs": [],
   "source": [
    "#下面就是进行结果的整理\n",
    "#第一步首先将cellSNP.AD的文件读取过来，之后转化为数据框，\n",
    "#之后将数据框其列名是barcode（利用文件进行命名）；行名是gene突变信息（也是根据跑出来的文件读进来进行命名）\n",
    "#之后就获得了一个表格\n",
    "###和RNA数据进行整合\n",
    "#可以看一下有没有想要研究的gene，之后根据barcode确定对应的细胞，之后进行下续分析"
   ]
  },
  {
   "cell_type": "code",
   "execution_count": null,
   "id": "bb3f391c-dd12-4c03-9979-decbe7857242",
   "metadata": {},
   "outputs": [],
   "source": [
    "#可以了解一下SMART-seq分析 \n",
    "#但是如果想要全基因组的突变信息，还是建议利用WGS"
   ]
  }
 ],
 "metadata": {
  "kernelspec": {
   "display_name": "Python 3 (ipykernel)",
   "language": "python",
   "name": "python3"
  },
  "language_info": {
   "codemirror_mode": {
    "name": "ipython",
    "version": 3
   },
   "file_extension": ".py",
   "mimetype": "text/x-python",
   "name": "python",
   "nbconvert_exporter": "python",
   "pygments_lexer": "ipython3",
   "version": "3.11.7"
  }
 },
 "nbformat": 4,
 "nbformat_minor": 5
}
