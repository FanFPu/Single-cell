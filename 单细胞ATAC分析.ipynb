{
 "cells": [
  {
   "cell_type": "code",
   "execution_count": null,
   "id": "ed720128-fbaf-49c2-8e08-6fc47741687c",
   "metadata": {},
   "outputs": [],
   "source": [
    "###ATAC分析的作用\n",
    "# 细胞类型鉴定:细胞的开放染色质区域、细胞的功能和特征。\n",
    "# 发育过程研究:染色质可及性变化，揭示细胞的转录因子调控网络和细胞命运决定的机制。\n",
    "# 细胞状态转换:研究细胞的分化过程、干细胞的自我更新和细胞的再编程过程等。\n",
    "# 研究疾病和肿瘤异质性:疾病和肿瘤中细胞的染色质可及性变化、不同克隆细胞的异质性。\n",
    "# 药物筛选和基因调控网络研究:研究药物对细胞染色质可及性的影响.从而发现新的治疗靶点和药物。\n",
    "\n",
    "#其实ATAC测得是染色质的开放区域，利用Tn5转录酶进行捕获"
   ]
  },
  {
   "cell_type": "code",
   "execution_count": null,
   "id": "88474e23-0ff8-4302-9a85-f5c49359165e",
   "metadata": {},
   "outputs": [],
   "source": [
    "#为了进行这种细胞类型注释，使用细胞类型特异性标记基因，并通过基因评分从染色质可达性数\n",
    "据中估计这些基因的基因表达。基因评分本质上是基于基因附近调控元素的可获得性，对基因表\n",
    "达水平的预测。"
   ]
  },
  {
   "cell_type": "code",
   "execution_count": null,
   "id": "af90b909-2d6d-41e7-8253-318c2a9c1490",
   "metadata": {},
   "outputs": [],
   "source": [
    "#第一步 \n",
    "#先创建一个sample的文件，里面第一列是file.gz文件的绝对路径，第二列是规定的文件名字,列名就是file和sample\n"
   ]
  },
  {
   "cell_type": "code",
   "execution_count": null,
   "id": "4fdf4bec-9862-4f79-9b64-cacb751773fb",
   "metadata": {},
   "outputs": [],
   "source": [
    "import snapatac2 as snap\n",
    "import numpy as np\n",
    "\n",
    "snap.__version__"
   ]
  },
  {
   "cell_type": "code",
   "execution_count": null,
   "id": "665b1b7d-cf5b-4826-a421-62c50e90a02b",
   "metadata": {},
   "outputs": [],
   "source": [
    "0Ortshapatac2aSsnapLmportanndata as ad.mportaraparse\n",
    "importpandas as pdmatplotlib.pyplot as pltimport\n",
    "importscanpy as scLmport numpy as npparse=argparse.ArgumentParser(description='SnapATAC2')\n",
    "parse.add argument!'.-fragmentlist’,help='the fragmentlist of fragment file name,loomfile eg:fragment, samplename',type str,required = True)\n",
    "parse.add arqument('--outdir',help='the analysis dir',type=str)\n",
    "parse.add argument(' -species',help='human or mouse',type=str,default = 'human')\n",
    "argvparse.parse_args()"
   ]
  },
  {
   "cell_type": "code",
   "execution_count": null,
   "id": "d00d9b06-72a4-438d-8b48-8b382875207e",
   "metadata": {},
   "outputs": [],
   "source": [
    "sample =  pd.read_csv(fragmentlist,sep='.')"
   ]
  },
  {
   "cell_type": "code",
   "execution_count": null,
   "id": "08b2aa88-09a1-4b93-b72c-f4b1e651780e",
   "metadata": {},
   "outputs": [],
   "source": [
    "if species == 'human' :\n",
    "    adatas = snap.pp.import_data(list(sample['file']),file=[name + '.h5ad' for name in list(sample['sample'])],chrom_sizes=snap.genome.hg38,min_num_fragments=1000,sorted_by_barcode=False)\n",
    "    snap.metrics.tsse(adatas, snap.genome.hg38)\n",
    "else:\n",
    "    adatas = snap.pp.import_data(list(sample['file']),file=[name + '.h5ad' for name in list(sample['sample'])],chrom_sizes=snap.genome.mm10,min_num_fragments=1000,sorted_by_barcode=False)\n",
    "    snap.metrics.tsse(adatas, snap.genome.mm10)"
   ]
  },
  {
   "cell_type": "code",
   "execution_count": null,
   "id": "1aafc26f-1f9e-4684-85fe-ff2af2067f59",
   "metadata": {},
   "outputs": [],
   "source": [
    "snap.metrics.tsse(adatas, snap.genome.hg38)\n",
    "snap.pp.filter_cells(adatas, min_tsse=7)\n",
    "snap.pp.add_tile_matrix(adatas, bin_size=5000)\n",
    "snap.pp.select_features(adatas, n_features=50000)\n",
    "#以下两步比较限速\n",
    "snap.pp.scrublet(adatas)\n",
    "snap.pp.filter_doublets(adatas)"
   ]
  },
  {
   "cell_type": "code",
   "execution_count": null,
   "id": "b94d4521-7cb3-4346-ab2f-c1aacc5d9153",
   "metadata": {},
   "outputs": [],
   "source": [
    "# ####Creting AnnDataSet object\n",
    "data = snap.AnnDataSet(\n",
    "    adatas=[(name, adata) for name, adata in zip(sample['sample'], adatas)],\n",
    "    filename=\"colon.h5ads\"\n",
    ")\n",
    "data"
   ]
  },
  {
   "cell_type": "markdown",
   "id": "722d11bb-f6f2-45db-b79a-33a5aa878f13",
   "metadata": {},
   "source": [
    "print(f'Number of cells: {data.n_obs}')\n",
    "print(f'Number of unique barcodes: {np.unique(data.obs_names).size}')"
   ]
  },
  {
   "cell_type": "code",
   "execution_count": null,
   "id": "f05d8fca-8319-4b0f-9064-6ee299fbf4f9",
   "metadata": {},
   "outputs": [],
   "source": [
    "nique_cell_ids = [sa + ':' + bc for sa, bc in zip(data.obs['sample'], data.obs_names)]\n",
    "data.obs_names = unique_cell_ids\n",
    "assert data.n_obs == np.unique(data.obs_names).size"
   ]
  },
  {
   "cell_type": "code",
   "execution_count": null,
   "id": "1f81a860-a852-4a1f-a66f-12b509987290",
   "metadata": {},
   "outputs": [],
   "source": [
    "snap.pp.select_features(data, n_features=50000)"
   ]
  },
  {
   "cell_type": "code",
   "execution_count": null,
   "id": "e50c6830-fe62-453a-9ef0-da9ea5809122",
   "metadata": {},
   "outputs": [],
   "source": [
    "snap.tl.spectral(data)"
   ]
  },
  {
   "cell_type": "code",
   "execution_count": null,
   "id": "e274b3d3-f62a-411c-b5f9-492f971e7899",
   "metadata": {},
   "outputs": [],
   "source": [
    "snap.tl.umap(data)\n",
    "snap.pl.umap(data, color=\"sample\", interactive=False)"
   ]
  },
  {
   "cell_type": "markdown",
   "id": "ddc7848f-b6dd-4fbb-95b5-99edadab9ee2",
   "metadata": {},
   "source": []
  },
  {
   "cell_type": "code",
   "execution_count": null,
   "id": "29295fb8-2587-437d-913f-8469f94dba17",
   "metadata": {},
   "outputs": [],
   "source": [
    "# Batch correction\n",
    "snap.pp.mnc_correct(data, batch=\"sample\")\n",
    "snap.pp.harmony(data, batch=\"sample\", max_iter_harmony=20)\n",
    "snap.tl.umap(data, use_rep=\"X_spectral_mnn\")\n",
    "snap.pl.umap(data, color=\"sample\", interactive=False)\n",
    "plt.savefig(outdir + '/combined.atac.umap.sample.png',dpi= 300, bbox_inches='tight')"
   ]
  },
  {
   "cell_type": "code",
   "execution_count": null,
   "id": "cb552de4-ab14-4d55-97e9-8836a530fec4",
   "metadata": {},
   "outputs": [],
   "source": []
  },
  {
   "cell_type": "code",
   "execution_count": null,
   "id": "698cb551-d3c8-48c8-aefa-96cb80513ddc",
   "metadata": {},
   "outputs": [],
   "source": [
    "#Clustering\n",
    "snap.pp.knn(data, use_rep=\"X_spectral_harmony\")\n",
    "snap.tl.leiden(data)\n",
    "snap.pl.umap(data, color=\"leiden\", interactive=False)\n",
    "plt.savefig(outdir + '/combined.atac.umap.leiden.png',dpi= 300, bbox_inches='tight')"
   ]
  },
  {
   "cell_type": "code",
   "execution_count": null,
   "id": "829e564b-350d-4886-a0f9-322051d31c76",
   "metadata": {},
   "outputs": [],
   "source": [
    "### cell cluster annotation 此处是活性矩阵\n",
    "if species == 'human' :\n",
    "    gene_matrix = snap.pp.make_gene_matrix(data, snap.genome.hg38)\n",
    "else:\n",
    "    gene_matrix = snap.pp.make_gene_matrix(data, snap.genome.mm10)"
   ]
  },
  {
   "cell_type": "code",
   "execution_count": null,
   "id": "575c1a52-ae77-4e68-baa4-3a2285802731",
   "metadata": {},
   "outputs": [],
   "source": [
    "###Imputation 插补\n",
    "sc.pp.filter_genes(gene_matrix, min_cells=5)\n",
    "sc.pp.normalize_total(gene_matrix)\n",
    "sc.pp.log1p(gene_matrix)\n",
    "gene_matrix.obsm['X_umap'] = data.obsm['X_umap']"
   ]
  },
  {
   "cell_type": "code",
   "execution_count": null,
   "id": "b6ce8eb3-1b82-41a1-b5eb-a91b6578c006",
   "metadata": {},
   "outputs": [],
   "source": [
    "#Peak calling\n",
    "\n",
    "snap.tl.macs3(data, groupby='leiden', replicate='sample')\n",
    "if species == 'human' :\n",
    "    merged_peaks = snap.tl.merge_peaks(data.uns['macs3'], chrom_sizes=snap.genome.hg38)\n",
    "else:\n",
    "    merged_peaks = snap.tl.merge_peaks(data.uns['macs3'], chrom_sizes=snap.genome.mm10)\n",
    "merged_peaks.shape\n",
    "peaks.to_csv(outdir + '/combined.peak.xls', sep= '\\t')\n",
    "peak_mat = snap.pp.make_peak_matirx(data, use_rep = peaks['Peaks'])"
   ]
  },
  {
   "cell_type": "code",
   "execution_count": null,
   "id": "ffb2eaa3-81c8-4627-8d21-f460cca8ce90",
   "metadata": {},
   "outputs": [],
   "source": [
    "### Finding marking regions 其实寻找开放区域的差异 细胞大类没有什么必要，一般都是细胞小类\n",
    "marker_peaks = snap.tl.marker_regions(peak_mat, group_by = 'leiden', pvalue= 0.01)\n",
    "snap.pl.regions(peak_mat, groupby='cell_type', peaks=marker_peaks, interactive=False)\n",
    "plt.savefig(outdir + '/combined.atac.region.png',dpi = 300,bbox_inches = 'tight')"
   ]
  },
  {
   "cell_type": "code",
   "execution_count": null,
   "id": "ad512329-a2ae-42f4-a444-7bdbcfed5207",
   "metadata": {},
   "outputs": [],
   "source": [
    "#motif 看一下转录因子的调节活性 \n",
    "if species == 'human':\n",
    "    motifs = snap.tl.motif_enrichment(\n",
    "        motifs=snap.datasets.cis_bp(unique=True),\n",
    "        regions=marker_peaks,\n",
    "        genome_fasta=snap.genome.hg38,)\n",
    "else:\n",
    "    motifs = snap.tl.motif_enrichment(\n",
    "    motifs=snap.datasets.cis_bp(unique=True),\n",
    "    regions=marker_peaks,\n",
    "    genome_fasta=snap.genome.mm10,\n",
    ")\n",
    "\n",
    "snap.pl.motif_enrichment(motifs, max_fdr=0.0001, height=1600, interactive=False)\n",
    "plt.savefig(outdir + '/combined.atac.motif.png',dpi =300, bbox_inches = 'tight')\n"
   ]
  },
  {
   "cell_type": "code",
   "execution_count": null,
   "id": "7682525d-a44e-4579-8205-eac2306d5ac1",
   "metadata": {},
   "outputs": [],
   "source": [
    "##RNA+ ATAC进行整合"
   ]
  },
  {
   "cell_type": "code",
   "execution_count": null,
   "id": "82381fea-31a6-4c60-b62f-ac71e3fc95ee",
   "metadata": {},
   "outputs": [],
   "source": [
    "import snapatac2 as snap"
   ]
  },
  {
   "cell_type": "code",
   "execution_count": null,
   "id": "3bdb386a-922b-4c9c-bd20-9912ddcb2993",
   "metadata": {},
   "outputs": [],
   "source": [
    "sample = pd.read_csv(samplist,sep = '.')\n",
    "samples={}\n",
    "for i in rang(sample.shape[0]):\n",
    "    key = sample.iloc[i,0]\n",
    "    samples[key] = sample.iloc[i,1]\n",
    "adatas ={}\n",
    "for sample_id, filename in samples.items():\n",
    "    sample_adata = sc.read_10x_h5(filename)\n",
    "    sample_adata.var_names_make_unique()\n",
    "    adatas[sample_id]= sample_adata"
   ]
  },
  {
   "cell_type": "code",
   "execution_count": null,
   "id": "c9f51d87-1141-4c15-a29b-00d2af8e04ff",
   "metadata": {},
   "outputs": [],
   "source": [
    "#### 整合\n",
    "adata = ad.concat(adatas, label= 'sample')\n",
    "adata.obs_names_make_unique()\n",
    "sc.pp.filter_cells(adata, min_genes=100)sc.pp.filter_genes(adata, min_cells=5)\n",
    "sc.pp.scrublet(adata, batch_key=\"sample\"adata.layers[\"counts\"]= adata.X.copy( )\n",
    "sc.pp.normalize_total(adata)\n",
    "sc.pp.loglp(adata)\n",
    "sc.pp.highly_variable_genes(adata, n_top_genes=2000, batch_key=\"sample\"\n",
    "sc.pp.scale(adata,max value=10)\n",
    "sc.tl.pca(adata)\n",
    "sce.pp.harmony_integrate(adata,'sample')\n",
    "sc.pp.neighbors(adata,n pcs=30,n neighbors=30, random state=0,use_rep =['X_harmony']\n",
    "sc.tl.leiden(adata)"
   ]
  },
  {
   "cell_type": "code",
   "execution_count": null,
   "id": "8b9faf21-8a3e-4cc0-8e18-7205def943ee",
   "metadata": {},
   "outputs": [],
   "source": [
    "H##ATAC分\n",
    "species谳争鲼亁艏\n",
    "adatas = snap.pp.import data(list(sample[ ATC ]),file=[nameiby barcode=False)\n",
    "semple'])],chrom sizes=snap.genome.hg38,min num fragments=1000,sort\n",
    "snap.metrics.tsse(adatas, snap.genome.hg38)\n",
    "lse:\n",
    "adatas = snap.pp,import data(list(sample[ ATAc ]),file=[name +dby_barcode=False)\n",
    "for name in list(sample[ sample'])],chrom_sizes=snap.genome.mm10,min_num_fragments=1000,sort\n",
    "snap.metrics.tsse(adatas, snap.genome .mm10)\n",
    "inap.pp.filter cells(adatas, min tsse=7)\n",
    "snap.pp.add_tile_matrix(adatas, bin_size=5000)\n",
    "snap.pp.select_features(adatas, n_features=50000)\n",
    "inap.pp,scrublet(adatas)\n",
    "snap.pp.filter doublets(adatas)\n",
    "\n"
   ]
  },
  {
   "cell_type": "code",
   "execution_count": null,
   "id": "12a7f28e-4fa4-4d72-893c-48dad24532da",
   "metadata": {},
   "outputs": [],
   "source": [
    "##Creating AnnDataset object\n",
    "atac = snap.AnnDataSet(adatas=[(name, adata) for name,adata in zip(sample['sample'], adatas)],filename=\"combined.h5ads\")\n",
    "unique cell ids =[sa +':'+ bc for sa, bc in zip(atac.obs[ sample ], atac.obs_names)]\n",
    "atac.obs_names = unique_cell ids\n",
    "assert atac.n_obs == np.unique(atac.obs_names).size\n",
    "snap.pp.select features(atac,n features=50000)\n",
    "snap.tl.spectral(atac)\n",
    "###Batch correction\n",
    "snap.pp.harmony(atac.batch=\"sample\",max_iter_harmony=20)\n",
    "snap,tl.umap(atac, use_rep=\"X_spectral_harmony\")\n",
    "####Performioint embedding\n",
    "assert(adata.obs names == atac.obs names).all()\n",
    "embedding = snap.tl.multi spectral([adata, atac], features=None)[1]\n",
    "atac,obsm['x joint'] = embedding\n",
    "snap.tl.umap(atac, use_rep='X joint')\n",
    "snap.pl.umap(atac, color=\"cell type\",interactive=False,height=550)\n",
    "plt.savefig(outdir + '/combined,rna.atac,png',dpi = 300,bbox inches='tight')\n",
    "atac.write(outdir + '/combined.atac.h5ad')"
   ]
  },
  {
   "cell_type": "code",
   "execution_count": null,
   "id": "41621820-d554-42d5-8bb9-8c21ba7b9fb7",
   "metadata": {},
   "outputs": [],
   "source": [
    "#其实ATAC分析分两种\n",
    "# 第一个就是一个样本做两个，分别是单细胞和ATAC，那么就可以将单细胞注释的结果直接套用在ATAC的数据上，因为一种细胞\n",
    "# 第二个就是不用样本分别做了单细胞和ATAC，那么就需要进行整合"
   ]
  }
 ],
 "metadata": {
  "kernelspec": {
   "display_name": "Python 3 (ipykernel)",
   "language": "python",
   "name": "python3"
  },
  "language_info": {
   "codemirror_mode": {
    "name": "ipython",
    "version": 3
   },
   "file_extension": ".py",
   "mimetype": "text/x-python",
   "name": "python",
   "nbconvert_exporter": "python",
   "pygments_lexer": "ipython3",
   "version": "3.11.7"
  }
 },
 "nbformat": 4,
 "nbformat_minor": 5
}
