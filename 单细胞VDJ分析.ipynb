{
 "cells": [
  {
   "cell_type": "code",
   "execution_count": null,
   "id": "ee1daec8-5b73-4528-9bcc-89ccb0be1e75",
   "metadata": {},
   "outputs": [],
   "source": [
    "#car-T；疗法具有局限性，因为他只能识别表面的抗原\n",
    "#VDJ序列上\n",
    "一边都是5‘端加tcr\n",
    "VDJ其实就是想要找到一段序列真正识别 免疫细胞并且具有免疫作用\n",
    "\n",
    "car-t和VDJ中的TCR的抗原抗体结合力是不一样的\n",
    "\n",
    "#VDJ序列，里面包含两种 一个是FR1 FR2 FR3这种不可变序列，以及CDR1 CDR2 CDR3的可变序列，但是CDR3覆盖了VDJ三种基因，因此它的可变性相当于CDR1 CDR2多样性增加了许多"
   ]
  },
  {
   "cell_type": "code",
   "execution_count": null,
   "id": "006e429f-a725-43e5-9054-e3299606e4ba",
   "metadata": {},
   "outputs": [],
   "source": [
    "影响抗原多样性的原因是什么?\n",
    "1.重组多样性\n",
    "2.高拷贝多样性\n",
    "在最初的胚系基因组中VDJ基因片段有多个拷贝，高拷贝意味着\n",
    "低选择压，这些片段具有极高的突变率和群体多样性。\n",
    "3.序列随机删除、引入的多样性\n",
    "4.体细胞超突变的多样性 (只发生在B细胞，不发生在T细胞)"
   ]
  },
  {
   "cell_type": "code",
   "execution_count": null,
   "id": "50f29101-d82c-4747-83eb-a88e6af90024",
   "metadata": {},
   "outputs": [],
   "source": [
    "#aBT细胞占外周血T细胞总数95%以上，识别由MHC分子提呈的蛋白质抗原，具有MHC限\n",
    "制性，是介导机体特异性免疫中的细胞免疫及免疫调节的主要细胞。\n",
    "通常所说的T细胞指的是aBT细胞。"
   ]
  },
  {
   "cell_type": "code",
   "execution_count": null,
   "id": "ec21c961-20eb-47b0-9fb4-9e39c802a4a6",
   "metadata": {},
   "outputs": [],
   "source": [
    "#y8T细胞是执行固有免疫功能的T细胞其TCR由y和8链组成。此类T细胞主要分布于肠道呼吸道以及泌尿生殖道等黏膜和皮下组织，在外周血中只占\n",
    "# CD3+T细胞的0.5%-1%。y8T细胞具有抗感染和抗肿瘤的作用，可杀伤病毒或细胞内细菌感染的靶细胞，同时通过分\n",
    "# 泌多种细胞因子发挥免疫调节作用和介\n",
    "# 导炎症反应。"
   ]
  },
  {
   "cell_type": "code",
   "execution_count": null,
   "id": "cf2e71c0-b836-4d5c-9508-c4663f5c2298",
   "metadata": {},
   "outputs": [],
   "source": [
    "#一般比较推荐TCR和单细胞转录组进行整合分析"
   ]
  },
  {
   "cell_type": "code",
   "execution_count": null,
   "id": "668e7b81-ce89-4446-b8a3-96eaec3d7606",
   "metadata": {},
   "outputs": [],
   "source": [
    "#BCR利用dandelion ，TCR利用scRepertoire(分独有亚群，共享状态（看是肿瘤还是血液等等），motif序列（最好具有免疫作用），看一下轨迹（拟时序））"
   ]
  },
  {
   "cell_type": "code",
   "execution_count": null,
   "id": "e9c8a985-8daa-47f4-9fb4-4174a25f0380",
   "metadata": {},
   "outputs": [],
   "source": [
    "####bin/R\n",
    "### fanfengpu\n",
    "### 20240916\n",
    "#### https://bioconductor.org/packages/release/bioc/vignettes/scRepertoire/inst/doc/vignette.html"
   ]
  },
  {
   "cell_type": "code",
   "execution_count": null,
   "id": "1765d9d0-7fc8-41f9-8ded-cda4dfe82f84",
   "metadata": {},
   "outputs": [],
   "source": [
    "library(argparse)\n",
    "parser = ArgumentParser(description=\"Seurat analysis for sc-VDJ\")\n",
    "parser$add argument(\"--inputs\", help=\"input files or directories. Required.eg:sample,file,group\", required=T)\n",
    "parser$add_argument(\"--outdir\"， required=T)\n",
    "parser$add_argument(\"--clonetype\"，required=T,choices = c('TCR','BCR'))\n",
    "parser$add_argument(\"--prefix\", help=\"prefix for output files. Required.\"， required=T)\n",
    "args = parser$parse_args()\n",
    "str(args)\n",
    "\n",
    "input_files = args$inputs\n",
    "outdir=args$outdir\n",
    "prefix=args$prefix\n",
    "clonetype=args$clonetype\n",
    "if (!dir,exists(outdir)){\n",
    "dir.create(outdir, recursive = TRUE)}"
   ]
  },
  {
   "cell_type": "code",
   "execution_count": null,
   "id": "1bba792d-9801-4bb3-8137-b0c3e414bf29",
   "metadata": {},
   "outputs": [],
   "source": [
    "dual.plot <- function(fig,file.prefix, w=7, h=7, res=75){\n",
    "    pdf(paste(file.prefix,\".pdf\",sep=\"\"),width =w,height =h)\n",
    "    print(fig)\n",
    "    dev.off()\n",
    "    png(paste(file.prefix,\".png\",sep=\"\"),width =w*res,height =h*res,res= res, type='cario-png')\n",
    "    print(fig)\n",
    "    dev.off()\n",
    "}"
   ]
  },
  {
   "cell_type": "code",
   "execution_count": null,
   "id": "045d3587-a903-4daa-9b93-c048df774bca",
   "metadata": {},
   "outputs": [],
   "source": [
    "samples = read.csv(input_files,header = T)\n",
    "contig_list = list()\n",
    "for(i in 1:dim(sample)[1]){\n",
    "    vdjmp = read.csv(sanple[i,2])\n",
    "    contig_list[[i]] = vdjmp\n",
    "}"
   ]
  },
  {
   "cell_type": "code",
   "execution_count": null,
   "id": "1415b7d4-8d77-4092-a3b0-9d9855b5f686",
   "metadata": {},
   "outputs": [],
   "source": [
    "if (clonetype == 'TCR'){combined <- combineTCR(contig_list, samples = samples[,1],ID = samples[,3])\n",
    "}else{combined <- combineBCR(contig_list, samples = samples[,1],ID = samples[,3])}\n",
    "\n",
    "p1 <- clonalQuant(combined, cloneCall= \"gene+nt\", scale = T, group.by = 'ID') + theme(axis.text.x= element+text(angle =30, vjust = 0.85, hjust= 0.75))+\n",
    "scale_fill_manual(values= defined_cols[1:length(sample_names)])\n",
    "\n",
    "p2 <- clonalQuant(combined, cloneCall= \"gene+nt\", scale = F, group.by = 'ID') + theme(axis.text.x= element+text(angle =30, vjust = 0.85, hjust= 0.75))+\n",
    "scale_fill_manual(values= defined_cols[1:length(sample_names)])\n",
    "p = p1+p2\n",
    "dual.plot(p, file.path(outdir, paste(prefix,'.Clonotypes.unique',sep = \"\")), w= 9 ,h= 6,res=mid_res)\n",
    "#quantContig_output <- quantContig(combined,cloneCall= \"gene+nt\",scale = T,exportTable =T)\n",
    "#write.table(quantContig_output,)\n"
   ]
  },
  {
   "cell_type": "code",
   "execution_count": null,
   "id": "a424c3ab-2fbc-4ab1-afd9-831da1988c32",
   "metadata": {},
   "outputs": [],
   "source": [
    "####clonalAbundance\n"
   ]
  }
 ],
 "metadata": {
  "kernelspec": {
   "display_name": "R",
   "language": "R",
   "name": "ir"
  },
  "language_info": {
   "codemirror_mode": "r",
   "file_extension": ".r",
   "mimetype": "text/x-r-source",
   "name": "R",
   "pygments_lexer": "r",
   "version": "4.3.2"
  }
 },
 "nbformat": 4,
 "nbformat_minor": 5
}
