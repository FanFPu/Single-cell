{
 "cells": [
  {
   "cell_type": "markdown",
   "id": "c6f9fc19-727e-4e7b-b090-c30ea7d952d2",
   "metadata": {},
   "source": [
    "利用Cellrank2 进行速率分析"
   ]
  },
  {
   "cell_type": "code",
   "execution_count": null,
   "id": "5d4c2511-deb7-4ca5-8a1c-7f1d1500f18e",
   "metadata": {},
   "outputs": [],
   "source": [
    "#！ 写一下要利用的python的绝对路径\n",
    "### 写一些书写日期\n",
    "### fanfengpu\n",
    "### 借鉴的网站链接\n",
    "### 投命令的形式"
   ]
  },
  {
   "cell_type": "code",
   "execution_count": null,
   "id": "1817a44d-9416-46ec-9882-8ee3caf57f11",
   "metadata": {},
   "outputs": [],
   "source": [
    "import igraph\n",
    "import sklearn\n",
    "import scvelo as scv\n",
    "import cellrank as cr\n",
    "import os\n",
    "import scanpy as sc\n",
    "import argparse\n",
    "import pandas as pd\n",
    "import numpy as np\n",
    "import loompy\n",
    "import matplotlib.pyplot as plt\n",
    "from cellrank.estimators import GPCCA\n",
    "import multiprocessing\n",
    "import leidenalg\n",
    "from cellrank.kernels import ConnectivityKernel"
   ]
  },
  {
   "cell_type": "code",
   "execution_count": null,
   "id": "a1e49f77-afaa-4ecd-a0e6-e3a505048556",
   "metadata": {},
   "outputs": [],
   "source": [
    "sc.settings.set_figure_params(frameon=False,dpo=100)\n",
    "cr.settings.verbosity\n",
    "parse= argparse.ArgumentParser(description= \"scvelo\")\n",
    "parse.add_argument ('--loomlist',help='the loomlist of loom file name，loomfile',type=str,required = True)\n",
    "parse.add_argument('--outdir',help= 'the analysis dir',type=str)\n",
    "parse.add_argument('--sample' ,help='the sample name',type=str,required = True)\n",
    "parse.add_argument('--cluster',help='the cluster of file',type=str,default='none)\n",
    "parse.add_argument('--xy' ,help='the coor of UMAp' ,type=str,default='none')\n",
    "parse.add argument('--resolution',help='the resolution for leiden' ,type=float,default= 0.5)\n",
    "argv = parse.parse_args()\n",
    "\n",
    "##在这个里面cluster是一个文件，行名是barcode，第一列列名是cluster，第二列然后内容是每个barcode的细胞类型信息\n",
    "##xy是umap的xy的信息\n",
    "##resultion就是分别率"
   ]
  },
  {
   "cell_type": "code",
   "execution_count": null,
   "id": "6f7a378c-41ee-45a1-adde-084b49d8b2b8",
   "metadata": {},
   "outputs": [],
   "source": []
  },
  {
   "cell_type": "code",
   "execution_count": null,
   "id": "ec422948-90bf-4c37-8416-83be7eec8c97",
   "metadata": {},
   "outputs": [],
   "source": []
  }
 ],
 "metadata": {
  "kernelspec": {
   "display_name": "Python 3 (ipykernel)",
   "language": "python",
   "name": "python3"
  },
  "language_info": {
   "codemirror_mode": {
    "name": "ipython",
    "version": 3
   },
   "file_extension": ".py",
   "mimetype": "text/x-python",
   "name": "python",
   "nbconvert_exporter": "python",
   "pygments_lexer": "ipython3",
   "version": "3.11.7"
  }
 },
 "nbformat": 4,
 "nbformat_minor": 5
}
